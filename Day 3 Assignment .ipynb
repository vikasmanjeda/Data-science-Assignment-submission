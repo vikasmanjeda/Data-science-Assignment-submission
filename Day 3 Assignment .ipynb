{
 "cells": [
  {
   "cell_type": "markdown",
   "metadata": {},
   "source": [
    "Ques 1. Create a numpy array starting from 2 till 50 with a stepsize of 3."
   ]
  },
  {
   "cell_type": "code",
   "execution_count": 1,
   "metadata": {},
   "outputs": [],
   "source": [
    "import numpy as np"
   ]
  },
  {
   "cell_type": "code",
   "execution_count": 21,
   "metadata": {},
   "outputs": [
    {
     "data": {
      "text/plain": [
       "array([ 2,  5,  8, 11, 14, 17, 20, 23, 26, 29, 32, 35, 38, 41, 44, 47, 50])"
      ]
     },
     "execution_count": 21,
     "metadata": {},
     "output_type": "execute_result"
    }
   ],
   "source": [
    "arr = np.arange(2,51,3)\n",
    "arr"
   ]
  },
  {
   "cell_type": "markdown",
   "metadata": {},
   "source": [
    "# "
   ]
  },
  {
   "cell_type": "markdown",
   "metadata": {},
   "source": [
    "Ques 2. Accept two lists of 5 elements each from the user.\n",
    "Convert them to numpy arrays. Concatenate these arrays and print it. Also sort these arrays and print it."
   ]
  },
  {
   "cell_type": "code",
   "execution_count": 25,
   "metadata": {},
   "outputs": [
    {
     "name": "stdout",
     "output_type": "stream",
     "text": [
      "Input : 9\n",
      "Input : 7\n",
      "Input : 5\n",
      "Input : 3\n",
      "Input : 1\n",
      "[9, 7, 5, 3, 1]\n",
      "\n",
      "Input : 2\n",
      "Input : 4\n",
      "Input : 6\n",
      "Input : 8\n",
      "Input : 11\n",
      "[0, 1, 2, 3, 4]\n",
      "\n",
      "[9 7 5 3 1]\n",
      "[0 1 2 3 4]\n",
      "\n",
      "[9 7 5 3 1 0 1 2 3 4]\n",
      "\n"
     ]
    },
    {
     "data": {
      "text/plain": [
       "array([0, 1, 1, 2, 3, 3, 4, 5, 7, 9])"
      ]
     },
     "execution_count": 25,
     "metadata": {},
     "output_type": "execute_result"
    }
   ],
   "source": [
    "import numpy as np\n",
    "list1 = []\n",
    "for i in range(5):\n",
    "    x=int(input(\"Input : \"))\n",
    "    list1.append(x)\n",
    "print(list1)\n",
    "print()\n",
    "\n",
    "list2 = []\n",
    "for j in range(5):\n",
    "    y = int(input(\"Input : \"))\n",
    "    list2.append(j)\n",
    "print(list2)\n",
    "print()\n",
    "\n",
    "\n",
    "arr1 = np.array(list1)\n",
    "arr2 = np.array(list2)\n",
    "print(arr1)\n",
    "print(arr2)\n",
    "print()\n",
    "\n",
    "arr3 = np.concatenate((arr1,arr2))\n",
    "print(arr3)\n",
    "print()\n",
    "\n",
    "np.sort(arr3)\n",
    "\n"
   ]
  },
  {
   "cell_type": "markdown",
   "metadata": {},
   "source": [
    "# "
   ]
  },
  {
   "cell_type": "markdown",
   "metadata": {},
   "source": [
    "Ques 3. Write a code snippet to find the dimensions of a ndarray and its size."
   ]
  },
  {
   "cell_type": "code",
   "execution_count": 8,
   "metadata": {},
   "outputs": [
    {
     "name": "stdout",
     "output_type": "stream",
     "text": [
      "[[1 2 3 4]\n",
      " [5 6 7 8]]\n",
      "(2, 4)\n"
     ]
    },
    {
     "data": {
      "text/plain": [
       "8"
      ]
     },
     "execution_count": 8,
     "metadata": {},
     "output_type": "execute_result"
    }
   ],
   "source": [
    "arr = np.array([[1,2,3,4],[5,6,7,8]])\n",
    "print(arr)\n",
    "print(np.shape(arr))\n",
    "np.size(arr)"
   ]
  },
  {
   "cell_type": "code",
   "execution_count": 19,
   "metadata": {},
   "outputs": [
    {
     "name": "stdout",
     "output_type": "stream",
     "text": [
      "[[[6.23042070e-307 4.67296746e-307]\n",
      "  [1.69121096e-306 1.33511018e-306]]\n",
      "\n",
      " [[7.56593017e-307 7.56599807e-307]\n",
      "  [8.90104239e-307 1.24610383e-306]]\n",
      "\n",
      " [[1.69118108e-306 9.34608432e-307]\n",
      "  [1.42410974e-306 8.34443015e-308]]]\n",
      "3\n"
     ]
    },
    {
     "data": {
      "text/plain": [
       "12"
      ]
     },
     "execution_count": 19,
     "metadata": {},
     "output_type": "execute_result"
    }
   ],
   "source": [
    "arr1 = np.ndarray([3,2,2])\n",
    "print(arr1)\n",
    "print(np.ndim(arr1))\n",
    "np.size(arr1)"
   ]
  },
  {
   "cell_type": "markdown",
   "metadata": {},
   "source": [
    "# "
   ]
  },
  {
   "cell_type": "markdown",
   "metadata": {},
   "source": [
    "Ques 4. How to convert a 1D array into a 2D array? Demonstrate with the help of a code snippet\n",
    "Hint: np.newaxis, np.expand_dims."
   ]
  },
  {
   "cell_type": "code",
   "execution_count": 28,
   "metadata": {},
   "outputs": [
    {
     "name": "stdout",
     "output_type": "stream",
     "text": [
      "[1 2 3 4 5 6]\n",
      "(6,)\n",
      "\n",
      "[[1 2 3 4 5 6]]\n",
      "(1, 6)\n"
     ]
    }
   ],
   "source": [
    "arr_1d = np.array([1,2,3,4,5,6])\n",
    "arr_2d = arr_1d[np.newaxis]\n",
    "A2 = np.expand_dims(arr_1d, axis=(1,2,3))\n",
    "\n",
    "\n",
    "print(arr_1d)\n",
    "print(arr_1d.shape)\n",
    "print()\n",
    "print(arr_2d)\n",
    "print(arr_2d.shape)"
   ]
  },
  {
   "cell_type": "markdown",
   "metadata": {},
   "source": [
    "# "
   ]
  },
  {
   "cell_type": "markdown",
   "metadata": {},
   "source": [
    "Ques 5. Consider two square numpy arrays. Stack them vertically and horizontally.\n",
    "Hint: Use vstack(), hstack()"
   ]
  },
  {
   "cell_type": "code",
   "execution_count": 6,
   "metadata": {},
   "outputs": [
    {
     "name": "stdout",
     "output_type": "stream",
     "text": [
      "Vertical Stack\n",
      "[[1 2]\n",
      " [4 3]\n",
      " [9 8]\n",
      " [5 6]]\n",
      "\n",
      "Horizontal Stack\n",
      "[[1 2 9 8]\n",
      " [4 3 5 6]]\n"
     ]
    }
   ],
   "source": [
    "import numpy as np\n",
    "arr1 = np.array([[1,2],[4,3]])\n",
    "arr2 = np.array([[9,8],[5,6]])\n",
    "\n",
    "print(\"Vertical Stack\")\n",
    "print(np.vstack((arr1,arr2)))\n",
    "print()\n",
    "print(\"Horizontal Stack\")\n",
    "print(np.hstack((arr1,arr2)))"
   ]
  },
  {
   "cell_type": "markdown",
   "metadata": {},
   "source": [
    "# "
   ]
  },
  {
   "cell_type": "markdown",
   "metadata": {},
   "source": [
    "Ques 6. How to get unique items and counts of unique items?"
   ]
  },
  {
   "cell_type": "code",
   "execution_count": 9,
   "metadata": {},
   "outputs": [
    {
     "name": "stdout",
     "output_type": "stream",
     "text": [
      "Unique Items: [ 1  2  3  4  8  9 12 15 19 22 30 63 76]\n",
      "Unique Items Count: [3 4 1 1 1 1 1 1 1 2 1 1 2]\n"
     ]
    }
   ],
   "source": [
    "x = np.array([1,2,3,4,9,8,76,12,15,63,22,30,19,1,2,2,2,1,76,22])\n",
    "unique, count = np.unique(x, return_counts = True)\n",
    "print(\"Unique Items:\",unique)\n",
    "print(\"Unique Items Count:\",count)"
   ]
  },
  {
   "cell_type": "code",
   "execution_count": null,
   "metadata": {},
   "outputs": [],
   "source": []
  }
 ],
 "metadata": {
  "kernelspec": {
   "display_name": "Python 3",
   "language": "python",
   "name": "python3"
  },
  "language_info": {
   "codemirror_mode": {
    "name": "ipython",
    "version": 3
   },
   "file_extension": ".py",
   "mimetype": "text/x-python",
   "name": "python",
   "nbconvert_exporter": "python",
   "pygments_lexer": "ipython3",
   "version": "3.8.3"
  }
 },
 "nbformat": 4,
 "nbformat_minor": 4
}
