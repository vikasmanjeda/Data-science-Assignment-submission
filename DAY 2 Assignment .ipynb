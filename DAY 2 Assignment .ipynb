{
 "cells": [
  {
   "cell_type": "markdown",
   "metadata": {},
   "source": [
    "Ques 1. Create an empty list. Accept 10 numbers from the user and append to it the list if it is an even number."
   ]
  },
  {
   "cell_type": "code",
   "execution_count": 6,
   "metadata": {},
   "outputs": [
    {
     "name": "stdout",
     "output_type": "stream",
     "text": [
      "Enter a number :1\n",
      "Enter a number :2\n",
      "Enter a number :3\n",
      "Enter a number :4\n",
      "Enter a number :5\n",
      "Enter a number :6\n",
      "Enter a number :7\n",
      "Enter a number :8\n",
      "Enter a number :9\n",
      "Enter a number :10\n",
      "[2, 4, 6, 8, 10]\n"
     ]
    }
   ],
   "source": [
    "list = []\n",
    "for i in range(10):\n",
    "    num = int(input(\"Enter a number :\"))\n",
    "    if num % 2 == 0:\n",
    "        list.append(num)\n",
    "print(list)\n",
    "    "
   ]
  },
  {
   "cell_type": "markdown",
   "metadata": {},
   "source": [
    "Ques 3. You have seen in the videos how powerful dictionary data structure is.\n",
    "In this assignment, given a number n, you have to write a program that generates a dictionary d which\n",
    "contains (i, i*i), where i is from 1 to n (both included).\n",
    "Then you have to just print this dictionary d.\n"
   ]
  },
  {
   "cell_type": "code",
   "execution_count": 14,
   "metadata": {},
   "outputs": [
    {
     "name": "stdout",
     "output_type": "stream",
     "text": [
      "Input : 6\n",
      "{1: 1, 2: 4, 3: 9, 4: 16, 5: 25, 6: 36}\n"
     ]
    }
   ],
   "source": [
    "dict = {}\n",
    "n = int(input(\"Input : \"))\n",
    "for i in range(1,n+1):\n",
    "    dict[i]= i*i\n",
    "print(dict)"
   ]
  },
  {
   "cell_type": "markdown",
   "metadata": {},
   "source": [
    "Ques 4. There is a robot which wants to go the charging point to charge itself. The robot moves in a 2-D plane from the original point (0,0). The robot can move toward UP, DOWN, LEFT and RIGHT with given steps. The trace of robot movement is shown as the following: UP 5 DOWN 3 LEFT 3 RIGHT 2 Then, the output of the program should be: 2 The numbers after the direction are steps. Write a program to compute the distance between the current position after a sequence of movement and original point. If the distance is a float, then just print the nearest integer (use round() function for that and then convert it into an integer). Input Format: The first line of the input contains a number n which implies the number of directions to be given. The next n lines contain the direction and the step separated by a space. Output Format: Print the distance from the original position to the current position. Example: Input: 4 UP 5 DOWN 3 LEFT 3 RIGHT 2 Output: 2"
   ]
  },
  {
   "cell_type": "code",
   "execution_count": 8,
   "metadata": {},
   "outputs": [
    {
     "name": "stdout",
     "output_type": "stream",
     "text": [
      "5\n",
      "3\n",
      "3\n",
      "2\n",
      "Output 2\n"
     ]
    }
   ],
   "source": [
    "import math\n",
    "pos=[0,0]\n",
    "moves={\"UP\":[0,1],\n",
    "       \"DOWN\":[0,-1],\n",
    "       \"LEFT\":[-1,0],\n",
    "       \"RIGHT\":[1,0]}\n",
    "\n",
    "UP = int(input())\n",
    "DOWN = int(input())\n",
    "LEFT = int(input())\n",
    "RIGHT = int(input())\n",
    "data = [\"UP 5\",\n",
    "    \"DOWN 3\",\n",
    "    \"LEFT 3\",\n",
    "    \"RIGHT 2\"]\n",
    "\n",
    "for i in data:\n",
    "    parts=i.split()    \n",
    "    mv=parts[0]\n",
    "    val=parts[1]\n",
    "    if mv in moves and val.isnumeric():\n",
    "        pos[0] = pos[0]+ moves[mv][0]*int(val)\n",
    "        pos[1] = pos[1]+ moves[mv][1]*int(val)\n",
    "\n",
    "distance=math.sqrt(pos[0]**2 + pos[1]**2)\n",
    "x= round(distance)\n",
    "print(\"Output\", x)"
   ]
  },
  {
   "cell_type": "code",
   "execution_count": null,
   "metadata": {},
   "outputs": [],
   "source": []
  }
 ],
 "metadata": {
  "kernelspec": {
   "display_name": "Python 3",
   "language": "python",
   "name": "python3"
  },
  "language_info": {
   "codemirror_mode": {
    "name": "ipython",
    "version": 3
   },
   "file_extension": ".py",
   "mimetype": "text/x-python",
   "name": "python",
   "nbconvert_exporter": "python",
   "pygments_lexer": "ipython3",
   "version": "3.8.3"
  }
 },
 "nbformat": 4,
 "nbformat_minor": 4
}
